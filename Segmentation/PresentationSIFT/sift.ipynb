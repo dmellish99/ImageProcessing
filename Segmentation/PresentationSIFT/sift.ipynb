{
  "cells": [
    {
      "cell_type": "markdown",
      "metadata": {
        "id": "QGJvjs5wtQJ0"
      },
      "source": [
        "**SIFT Descriptor**"
      ]
    },
    {
      "cell_type": "code",
      "execution_count": 19,
      "metadata": {
        "colab": {
          "base_uri": "https://localhost:8080/"
        },
        "id": "zNt93hrXtVHJ",
        "outputId": "b267bdf5-1caa-47b8-db08-582669c90d36"
      },
      "outputs": [
        {
          "name": "stdout",
          "output_type": "stream",
          "text": [
            "Annotated image saved at: c:/Users/melli/Documents/GitHub/ImageProcessing/Segmentation/PresentationSIFT/annotated/leaves1.jpg\n",
            "Annotated image saved at: c:/Users/melli/Documents/GitHub/ImageProcessing/Segmentation/PresentationSIFT/annotated/leaves2.jpg\n",
            "Annotated image saved at: c:/Users/melli/Documents/GitHub/ImageProcessing/Segmentation/PresentationSIFT/annotated/leaves3.jpg\n",
            "Annotated image saved at: c:/Users/melli/Documents/GitHub/ImageProcessing/Segmentation/PresentationSIFT/annotated/tiles1.jpg\n",
            "Annotated image saved at: c:/Users/melli/Documents/GitHub/ImageProcessing/Segmentation/PresentationSIFT/annotated/tiles2.jpg\n",
            "Annotated image saved at: c:/Users/melli/Documents/GitHub/ImageProcessing/Segmentation/PresentationSIFT/annotated/tiles3.jpg\n",
            "Annotated image saved at: c:/Users/melli/Documents/GitHub/ImageProcessing/Segmentation/PresentationSIFT/annotated/tiles3cropped.jpg\n",
            "Annotated image saved at: c:/Users/melli/Documents/GitHub/ImageProcessing/Segmentation/PresentationSIFT/annotated/tiles4.jpg\n"
          ]
        }
      ],
      "source": [
        "import os\n",
        "import pandas as pd\n",
        "import cv2\n",
        "import numpy as np\n",
        "\n",
        "\n",
        "path=os.getcwd()\n",
        "\n",
        "path=path.replace('\\\\','/')\n",
        "\n",
        "\n",
        "\n",
        "for an_image in os.listdir(path+'/src/'):\n",
        "\n",
        "    image_path=path+'/src/'+an_image\n",
        "\n",
        "    # SIFT descriptor\n",
        "    image = cv2.imread(image_path, cv2.IMREAD_GRAYSCALE)\n",
        "    if image is None:\n",
        "        print(f\"Failed to load {image_path}\")\n",
        "\n",
        "    max_features=100\n",
        "\n",
        "\n",
        "    # SIFT feature detection and description\n",
        "    sift = cv2.SIFT_create(nfeatures=max_features)\n",
        "    keypoints, descriptors = sift.detectAndCompute(image, None)\n",
        "\n",
        "\n",
        "    # Draw keypoints on the image\n",
        "    annotated_image = cv2.drawKeypoints(image, keypoints, None, flags=cv2.DRAW_MATCHES_FLAGS_DRAW_RICH_KEYPOINTS)\n",
        "\n",
        "\n",
        "    annotated_path=path+'/annotated/'+an_image+\"\"\n",
        "    cv2.imwrite(annotated_path, annotated_image)\n",
        "    print(f\"Annotated image saved at: {annotated_path}\")"
      ]
    },
    {
      "cell_type": "code",
      "execution_count": null,
      "metadata": {},
      "outputs": [],
      "source": []
    }
  ],
  "metadata": {
    "colab": {
      "provenance": []
    },
    "kernelspec": {
      "display_name": "Python 3",
      "name": "python3"
    },
    "language_info": {
      "codemirror_mode": {
        "name": "ipython",
        "version": 3
      },
      "file_extension": ".py",
      "mimetype": "text/x-python",
      "name": "python",
      "nbconvert_exporter": "python",
      "pygments_lexer": "ipython3",
      "version": "3.12.0"
    }
  },
  "nbformat": 4,
  "nbformat_minor": 0
}
